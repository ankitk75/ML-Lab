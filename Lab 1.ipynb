{
 "cells": [
  {
   "cell_type": "markdown",
   "id": "0128f393",
   "metadata": {},
   "source": [
    "# ML Lab 1"
   ]
  },
  {
   "cell_type": "markdown",
   "id": "90f43cbe",
   "metadata": {},
   "source": [
    "### 1. Convert a 1-D array into a 2-D array with 3 rows."
   ]
  },
  {
   "cell_type": "code",
   "execution_count": 3,
   "id": "0f1a9990",
   "metadata": {},
   "outputs": [
    {
     "data": {
      "text/plain": [
       "array([[0, 1, 2],\n",
       "       [3, 4, 5],\n",
       "       [6, 7, 8]])"
      ]
     },
     "execution_count": 3,
     "metadata": {},
     "output_type": "execute_result"
    }
   ],
   "source": [
    "import numpy as np\n",
    "a=np.arange(9).reshape(3,3)\n",
    "a"
   ]
  },
  {
   "cell_type": "markdown",
   "id": "ad8806eb",
   "metadata": {},
   "source": [
    "### 2. Replace all odd numbers in the given array with -1"
   ]
  },
  {
   "cell_type": "code",
   "execution_count": 4,
   "id": "feb89013",
   "metadata": {},
   "outputs": [
    {
     "name": "stdout",
     "output_type": "stream",
     "text": [
      "[0 1 2 3 4 5 6 7 8 9]\n",
      "[ 0 -1  2 -1  4 -1  6 -1  8 -1]\n"
     ]
    }
   ],
   "source": [
    "b=np.arange(10)\n",
    "print(b)\n",
    "b[b %2 !=0] =-1\n",
    "print(b)"
   ]
  },
  {
   "cell_type": "markdown",
   "id": "3f5f3aa0",
   "metadata": {},
   "source": [
    "### 3. Find the positions of elements in x where its value is more than its corresponding element in y, and elements in x where its value is equals to its corresponding element in y."
   ]
  },
  {
   "cell_type": "code",
   "execution_count": 5,
   "id": "64cd2807",
   "metadata": {},
   "outputs": [
    {
     "name": "stdout",
     "output_type": "stream",
     "text": [
      "(array([1, 2, 4, 5, 6, 7, 8, 9]),)\n",
      "(array([0]),)\n"
     ]
    }
   ],
   "source": [
    "x = np.array([21, 64, 86, 22, 74, 55, 81, 79, 90, 89]) \n",
    "y = np.array([21, 7, 3, 45, 10, 29, 55, 4, 37, 18])\n",
    "\n",
    "print(np.where(x > y))\n",
    "print(np.where(x == y))"
   ]
  },
  {
   "cell_type": "markdown",
   "id": "9b17ce69",
   "metadata": {},
   "source": [
    "### 4. Extract the first four columns of this 2-D array."
   ]
  },
  {
   "cell_type": "code",
   "execution_count": 8,
   "id": "a37e6088",
   "metadata": {},
   "outputs": [
    {
     "data": {
      "text/plain": [
       "array([[ 0,  1,  2,  3],\n",
       "       [20, 21, 22, 23],\n",
       "       [40, 41, 42, 43],\n",
       "       [60, 61, 62, 63],\n",
       "       [80, 81, 82, 83]])"
      ]
     },
     "execution_count": 8,
     "metadata": {},
     "output_type": "execute_result"
    }
   ],
   "source": [
    "Assign = np.arange(100).reshape(5,-1) \n",
    "Assign[:,:4]"
   ]
  },
  {
   "cell_type": "markdown",
   "id": "bdfa917e",
   "metadata": {},
   "source": [
    "## Additional questions\n",
    "\n",
    "### 1. Generate a 1-D array of 10 random integers. Each integer should be a number between 30 and 40 (inclusive)."
   ]
  },
  {
   "cell_type": "code",
   "execution_count": 10,
   "id": "c63a0f94",
   "metadata": {},
   "outputs": [
    {
     "data": {
      "text/plain": [
       "array([11, 18, 21, 27, 14, 23, 14, 24, 16, 25])"
      ]
     },
     "execution_count": 10,
     "metadata": {},
     "output_type": "execute_result"
    }
   ],
   "source": [
    "x = np.random.randint(10, 30, 10)\n",
    "x"
   ]
  },
  {
   "cell_type": "markdown",
   "id": "04710b9a",
   "metadata": {},
   "source": [
    "### 2. Consider the following matrices :\n",
    "#### A=((1,2,3),(4,5,6),(7,8,10))and B=((7,8,10),(4,5,6),(1,2,3))\n",
    "#### Write a python program to perform the following using Numeric Python (numpy).\n",
    "#### i) Add and Subtract of the Matrix A and B, print the resultant matrix C for add and E for subtract.\n",
    "#### ii) Compute the sum of all elements of Matrix A, sum of each column of Matrix B and sum of each row of Matrix C \n",
    "#### iii) Product of two matrices A and B, and print the resultant matrix D\n",
    "#### iv) Sort the elements of resultant matrix C and print the resultant Matrix E.\n",
    "#### v) Transpose the Matrix E and print the result"
   ]
  },
  {
   "cell_type": "code",
   "execution_count": 16,
   "id": "71216497",
   "metadata": {},
   "outputs": [
    {
     "data": {
      "text/plain": [
       "(array([[ 8, 10, 13],\n",
       "        [ 8, 10, 12],\n",
       "        [ 8, 10, 13]]),\n",
       " array([[-6, -6, -7],\n",
       "        [ 0,  0,  0],\n",
       "        [ 6,  6,  7]]))"
      ]
     },
     "execution_count": 16,
     "metadata": {},
     "output_type": "execute_result"
    }
   ],
   "source": [
    "A= np.array([[1, 2, 3], \n",
    "             [4, 5, 6], \n",
    "             [7, 8, 10]])\n",
    "\n",
    "B= np.array([[7, 8, 10],\n",
    "            [4, 5, 6], \n",
    "            [1, 2, 3]]) \n",
    "\n",
    "C = A+B\n",
    "E = A-B\n",
    "\n",
    "C,E"
   ]
  },
  {
   "cell_type": "code",
   "execution_count": 18,
   "id": "c8fdf0cf",
   "metadata": {},
   "outputs": [
    {
     "name": "stdout",
     "output_type": "stream",
     "text": [
      "Sum of all elements in A:  46\n",
      "Sum of all the columns of matrix B:  [12 15 19]\n",
      "Sum of all the rows of matrix C:  [31 30 31]\n"
     ]
    }
   ],
   "source": [
    "print(\"Sum of all elements in A: \", A.sum())\n",
    "print(\"Sum of all the columns of matrix B: \", B.sum(axis = 0))\n",
    "print(\"Sum of all the rows of matrix C: \", C.sum(axis = 1))"
   ]
  },
  {
   "cell_type": "code",
   "execution_count": 19,
   "id": "977c8e9e",
   "metadata": {},
   "outputs": [
    {
     "data": {
      "text/plain": [
       "array([[ 18,  24,  31],\n",
       "       [ 54,  69,  88],\n",
       "       [ 91, 116, 148]])"
      ]
     },
     "execution_count": 19,
     "metadata": {},
     "output_type": "execute_result"
    }
   ],
   "source": [
    "A@B"
   ]
  },
  {
   "cell_type": "code",
   "execution_count": 20,
   "id": "d86e789d",
   "metadata": {},
   "outputs": [
    {
     "data": {
      "text/plain": [
       "array([[-6,  0,  6],\n",
       "       [-6,  0,  6],\n",
       "       [-7,  0,  7]])"
      ]
     },
     "execution_count": 20,
     "metadata": {},
     "output_type": "execute_result"
    }
   ],
   "source": [
    "E.transpose()"
   ]
  }
 ],
 "metadata": {
  "kernelspec": {
   "display_name": "Python 3 (ipykernel)",
   "language": "python",
   "name": "python3"
  },
  "language_info": {
   "codemirror_mode": {
    "name": "ipython",
    "version": 3
   },
   "file_extension": ".py",
   "mimetype": "text/x-python",
   "name": "python",
   "nbconvert_exporter": "python",
   "pygments_lexer": "ipython3",
   "version": "3.10.12"
  }
 },
 "nbformat": 4,
 "nbformat_minor": 5
}
